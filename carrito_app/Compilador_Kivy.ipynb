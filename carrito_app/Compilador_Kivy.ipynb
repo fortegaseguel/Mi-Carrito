{
  "nbformat": 4,
  "nbformat_minor": 0,
  "metadata": {
    "colab": {
      "name": "Deploy Kivy.ipynb",
      "provenance": [],
      "collapsed_sections": []
    },
    "kernelspec": {
      "display_name": "Python 3",
      "name": "python3"
    },
    "language_info": {
      "name": "python"
    }
  },
  "cells": [
    {
      "cell_type": "code",
      "metadata": {
        "id": "0HYnPZ01bYPT"
      },
      "source": [
        "!pip install buildozer\n"
      ],
      "execution_count": null,
      "outputs": []
    },
    {
      "cell_type": "code",
      "metadata": {
        "id": "dK1SRZiybxBI"
      },
      "source": [
        "!pip install cython==0.29.19"
      ],
      "execution_count": null,
      "outputs": []
    },
    {
      "cell_type": "code",
      "metadata": {
        "id": "CQwOnRA9b4DL"
      },
      "source": [
        "!sudo apt-get install -y \\\n",
        "    python3-pip \\\n",
        "    build-essential \\\n",
        "    git \\\n",
        "    python3 \\\n",
        "    python3-dev \\\n",
        "    ffmpeg \\\n",
        "    libsdl2-dev \\\n",
        "    libsdl2-image-dev \\\n",
        "    libsdl2-mixer-dev \\\n",
        "    libsdl2-ttf-dev \\\n",
        "    libportmidi-dev \\\n",
        "    libswscale-dev \\\n",
        "    libavformat-dev \\\n",
        "    libavcodec-dev \\\n",
        "    zlib1g-dev"
      ],
      "execution_count": null,
      "outputs": []
    },
    {
      "cell_type": "code",
      "metadata": {
        "id": "tNI1c2KscFAL"
      },
      "source": [
        "!sudo apt-get install -y \\\n",
        "    libgstreamer1.0 \\\n",
        "    gstreamer1.0-plugins-base \\\n",
        "    gstreamer1.0-plugins-good\n"
      ],
      "execution_count": null,
      "outputs": []
    },
    {
      "cell_type": "code",
      "metadata": {
        "id": "6iyONPFzcNQ8"
      },
      "source": [
        "!sudo apt-get install build-essential libsqlite3-dev sqlite3 bzip2 libbz2-dev zlib1g-dev libssl-dev openssl libgdbm-dev libgdbm-compat-dev liblzma-dev libreadline-dev libncursesw5-dev libffi-dev uuid-dev libffi6"
      ],
      "execution_count": null,
      "outputs": []
    },
    {
      "cell_type": "code",
      "metadata": {
        "id": "egWeCJ11cUGM"
      },
      "source": [
        "!sudo apt-get install libffi-dev"
      ],
      "execution_count": null,
      "outputs": []
    },
    {
      "cell_type": "markdown",
      "metadata": {
        "id": "o9XiqlXVGOeM"
      },
      "source": [
        "Desde aqui empieza la compilacion. Si esta falla comenzar desde aqui ==>>"
      ]
    },
    {
      "cell_type": "code",
      "metadata": {
        "colab": {
          "base_uri": "https://localhost:8080/"
        },
        "id": "jRW3SnD9cdOd",
        "outputId": "0d98290b-dea1-49a4-d0d2-0af4a4fc14fc"
      },
      "source": [
        "# Genera Archivo SPEC\n",
        "!buildozer init"
      ],
      "execution_count": 6,
      "outputs": [
        {
          "output_type": "stream",
          "name": "stdout",
          "text": [
            "\u001b[91m\u001b[1mBuildozer is running as root!\u001b[0m\n",
            "\u001b[91mThis is \u001b[1mnot\u001b[0m \u001b[91mrecommended, and may lead to problems later.\u001b[0m\n",
            "Are you sure you want to continue [y/n]? y\n",
            "File buildozer.spec created, ready to customize!\n"
          ]
        }
      ]
    },
    {
      "cell_type": "code",
      "metadata": {
        "id": "F_l6Pu3OmfdX"
      },
      "source": [
        "# Cuando ya este listo el archivo SPEC con todos los campos respectivos editados, se ejecuta este codigo.\n",
        "# Se crea una apk para debug, no la version final\n",
        "\n",
        "!buildozer -v android debug"
      ],
      "execution_count": null,
      "outputs": []
    }
  ]
}